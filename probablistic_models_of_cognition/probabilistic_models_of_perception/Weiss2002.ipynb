{
 "cells": [
  {
   "cell_type": "markdown",
   "metadata": {},
   "source": [
    "# Motion illusions as optimal percepts"
   ]
  },
  {
   "cell_type": "code",
   "execution_count": 6,
   "metadata": {
    "collapsed": true
   },
   "outputs": [],
   "source": [
    "%matplotlib inline\n",
    "import numpy as np\n",
    "import scipy.stats\n",
    "import matplotlib.pyplot as plt\n",
    "from ipywidgets import interact"
   ]
  },
  {
   "cell_type": "code",
   "execution_count": 14,
   "metadata": {
    "collapsed": true
   },
   "outputs": [],
   "source": [
    "def imshow(ax, p):\n",
    "    ax.imshow(p.T, origin='lower', interpolation='nearest', cmap='gray')\n",
    "    xmid = (p.shape[1] - 1) / 2\n",
    "    ymid = (p.shape[0] - 1) / 2\n",
    "    ax.vlines(ymid, 0, p.shape[1], color='gray')\n",
    "    ax.hlines(xmid, 0, p.shape[0], color='gray')"
   ]
  },
  {
   "cell_type": "code",
   "execution_count": 15,
   "metadata": {
    "collapsed": true
   },
   "outputs": [],
   "source": [
    "def uniform(x, low, high):\n",
    "    return scipy.stats.uniform.logpdf(x, low, high - low)"
   ]
  },
  {
   "cell_type": "code",
   "execution_count": 16,
   "metadata": {
    "collapsed": true
   },
   "outputs": [],
   "source": [
    "def norm(x, mu, sigma):\n",
    "    return scipy.stats.norm.logpdf(x, mu, sigma)"
   ]
  },
  {
   "cell_type": "code",
   "execution_count": 22,
   "metadata": {
    "collapsed": false
   },
   "outputs": [
    {
     "data": {
      "image/png": "[encoded data removed]",
      "text/plain": [
       "<matplotlib.figure.Figure at 0x10d87c710>"
      ]
     },
     "metadata": {},
     "output_type": "display_data"
    }
   ],
   "source": [
    "vx, vy = np.ogrid[-50:51,-50:51]\n",
    "priors = []\n",
    "\n",
    "# zero-mean gaussian prior\n",
    "priors.append(norm(vx, 0, 25) + norm(vy, 0, 25))\n",
    "\n",
    "# velocity average (VA) gaussian prior\n",
    "priors.append(norm(vx, 17.88461538, 5) + norm(vy, -14.42307692, 5))\n",
    "\n",
    "# uniform prior\n",
    "priors.append(uniform(vx, -50, 100) + uniform(vy, -50, 100))\n",
    "\n",
    "\n",
    "@interact\n",
    "def plot(prior=(0, 2), sigma=(1,10)):\n",
    "    lh1 = uniform(vx, -50, 100) + norm(vy - vx + 30, 0, sigma)\n",
    "    lh2 = uniform(vx, -50, 100) + norm(vy - 1.5 * vx + 45, 0, sigma)\n",
    "    posterior = lh1 + lh2 + priors[prior]\n",
    "    MAP = np.unravel_index(np.argmax(posterior), posterior.shape)\n",
    "\n",
    "    fig, axes = plt.subplots(1, 4)\n",
    "    imshow(axes[0], np.exp(priors[prior]))\n",
    "    imshow(axes[1], np.exp(lh1))\n",
    "    imshow(axes[2], np.exp(lh2))\n",
    "    imshow(axes[3], np.exp(posterior))\n",
    "\n",
    "    axes[3].autoscale(enable=False)\n",
    "    axes[3].plot(MAP[0], MAP[1], 'ro')\n",
    "\n",
    "    fig.set_size_inches(12, 3)"
   ]
  }
 ],
 "metadata": {
  "kernelspec": {
   "display_name": "Python 3",
   "language": "python",
   "name": "python3"
  },
  "language_info": {
   "codemirror_mode": {
    "name": "ipython",
    "version": 3
   },
   "file_extension": ".py",
   "mimetype": "text/x-python",
   "name": "python",
   "nbconvert_exporter": "python",
   "pygments_lexer": "ipython3",
   "version": "3.4.2"
  }
 },
 "nbformat": 4,
 "nbformat_minor": 0
}
